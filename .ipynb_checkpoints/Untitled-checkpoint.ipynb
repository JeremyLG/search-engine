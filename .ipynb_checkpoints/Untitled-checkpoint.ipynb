{
 "cells": [
  {
   "cell_type": "code",
   "execution_count": null,
   "metadata": {},
   "outputs": [],
   "source": [
    "import pandas as pd\n",
    "import urllib.request\n",
    "import json\n",
    "import requests\n",
    "from elasticsearch import Elasticsearch\n",
    "from nameparser import HumanName\n",
    "es = Elasticsearch()\n",
    "df = pd.read_csv(\"D:\\\\Downloads\\\\imdb-movies-dataset\\\\imdb.csv\",error_bad_lines=False)"
   ]
  },
  {
   "cell_type": "code",
   "execution_count": null,
   "metadata": {},
   "outputs": [],
   "source": [
    "from IPython.core.interactiveshell import InteractiveShell\n",
    "InteractiveShell.ast_node_interactivity = \"all\""
   ]
  },
  {
   "cell_type": "code",
   "execution_count": null,
   "metadata": {},
   "outputs": [],
   "source": [
    "df"
   ]
  },
  {
   "cell_type": "code",
   "execution_count": null,
   "metadata": {},
   "outputs": [],
   "source": [
    "def pivot(row):\n",
    "    nom = []\n",
    "    for i in range(16,len(df.columns.values)):\n",
    "        if row[i] == 1:\n",
    "            nom.append(df.columns.values[[i]])\n",
    "    return(nom)\n",
    "\n",
    "df_pivot = df\n",
    "df_pivot[\"rubric\"] = df_pivot.apply(pivot,axis=1)\n",
    "\n",
    "def poster(row):\n",
    "    tid = row['tid']\n",
    "    r = urllib.request.urlopen(\"https://getimdb.herokuapp.com/get/?id=\" + tid)\n",
    "    t = r.read()\n",
    "    link = json.loads(t.decode())['poster']\n",
    "    return(link)\n",
    "\n",
    "df_pivot[\"poster\"] = df_pivot.apply(poster,axis=1)\n",
    "\n",
    "df_final = df_pivot[['tid','title','ratingCount','rubric','poster']]\n",
    "\n",
    "df_final = df_final.rename(columns={'tid':'id','title':'short_title','ratingCount':'pop2','rubric':'rubric','poster':'poster'})\n",
    "\n"
   ]
  },
  {
   "cell_type": "code",
   "execution_count": null,
   "metadata": {
    "scrolled": true
   },
   "outputs": [],
   "source": [
    "def pivot(row):\n",
    "    nom = []\n",
    "    for i in range(16,len(df.columns.values)):\n",
    "        if row[i] == 1:\n",
    "            nom.append(df.columns.values[[i]])\n",
    "    return(nom)\n",
    "\n",
    "df_pivot = df\n",
    "df_pivot[\"rubric\"] = df_pivot.apply(pivot,axis=1)\n",
    "df_pivot[\"poster\"] = \"\"\n",
    "\n",
    "tt = 0\n",
    "for i in range(len(df_pivot)):\n",
    "    tid = df_pivot.loc[i,\"tid\"]\n",
    "    r = urllib.request.urlopen(\"https://getimdb.herokuapp.com/get/?id=\" + tid)\n",
    "    t = r.read()\n",
    "    link = json.loads(t.decode())['poster']\n",
    "    df_pivot.loc[i,\"poster\"] = link\n",
    "    print(i)\n",
    "    tt+=1\n"
   ]
  },
  {
   "cell_type": "code",
   "execution_count": null,
   "metadata": {},
   "outputs": [],
   "source": [
    "tt"
   ]
  },
  {
   "cell_type": "code",
   "execution_count": null,
   "metadata": {},
   "outputs": [],
   "source": [
    "tt = 1273\n",
    "for i in range(1273,len(df_pivot)):\n",
    "    tid = df_pivot.loc[i,\"tid\"]\n",
    "    r = urllib.request.urlopen(\"https://getimdb.herokuapp.com/get/?id=\" + tid)\n",
    "    t = r.read()\n",
    "    link = json.loads(t.decode())['poster']\n",
    "    df_pivot.loc[i,\"poster\"] = link\n",
    "    print(i)\n",
    "    tt+=1"
   ]
  },
  {
   "cell_type": "code",
   "execution_count": null,
   "metadata": {},
   "outputs": [],
   "source": [
    "def insertDataframeIntoElastic(dataFrame,index='index', typ = 'test', server = 'http://192.168.11.148:9200',\n",
    "                           chunk_size = 2000):\n",
    "    headers = {'content-type': 'application/x-ndjson', 'Accept-Charset': 'UTF-8'}\n",
    "    records = dataFrame.to_dict(orient='records')\n",
    "    actions = [\"\"\"{ \"index\" : { \"_index\" : \"%s\", \"_type\" : \"%s\"} }\\n\"\"\" % (index, typ) +json.dumps(records[j])\n",
    "                    for j in range(len(records))]\n",
    "    i=0\n",
    "    while i<len(actions):\n",
    "        serverAPI = server + '/_bulk' \n",
    "        data='\\n'.join(actions[i:min([i+chunk_size,len(actions)])])\n",
    "        data = data + '\\n'\n",
    "        r = requests.post(serverAPI, data = data, headers=headers)\n",
    "        print(r.content)\n",
    "        i = i+chunk_size"
   ]
  },
  {
   "cell_type": "code",
   "execution_count": null,
   "metadata": {},
   "outputs": [],
   "source": [
    "first = lambda x:HumanName(x)['first']\n",
    "last = lambda x:HumanName(x)['last']"
   ]
  },
  {
   "cell_type": "code",
   "execution_count": null,
   "metadata": {},
   "outputs": [],
   "source": [
    "df = pd.read_csv(\"actors.csv\", encoding = \"ISO-8859-1\")\n",
    "df = df[[\"id\",\"name\",\"popularity\",\"profile_path\"]]\n",
    "df[\"first_name\"] = df[\"name\"].apply(first)\n",
    "df[\"last_name\"] = df[\"name\"].apply(last)\n",
    "df = df[[\"id\",\"first_name\",\"last_name\",\"popularity\",\"profile_path\"]]\n",
    "df = df.rename(columns={\"profile_path\":\"poster\"})\n",
    "df"
   ]
  },
  {
   "cell_type": "code",
   "execution_count": null,
   "metadata": {},
   "outputs": [],
   "source": [
    "insertDataframeIntoElastic(df,index=\"actors_final\",typ=\"actor\",server=\"http://127.0.0.1:9200\")"
   ]
  },
  {
   "cell_type": "code",
   "execution_count": null,
   "metadata": {},
   "outputs": [],
   "source": [
    "df = pd.read_csv(\"movies.csv\", encoding = \"ISO-8859-1\")\n",
    "df = df.rename(columns={\"poster_path\":\"poster\",\"popularity\":\"pop2\",\"title\":\"short_title\"})\n",
    "df"
   ]
  },
  {
   "cell_type": "code",
   "execution_count": null,
   "metadata": {},
   "outputs": [],
   "source": [
    "insertDataframeIntoElastic(df,index=\"movies_final\",typ=\"movie\",server=\"http://127.0.0.1:9200\")"
   ]
  },
  {
   "cell_type": "code",
   "execution_count": null,
   "metadata": {},
   "outputs": [],
   "source": [
    "df = df[[\"id\",\"name\",\"popularity\",\"profile_path\"]]\n",
    "df[\"first_name\"] = df[\"name\"].apply(first)\n",
    "df[\"last_name\"] = df[\"name\"].apply(last)\n",
    "df = df[[\"id\",\"first_name\",\"last_name\",\"popularity\",\"profile_path\"]]\n",
    "df = df.rename(columns={\"profile_path\":\"poster\"})\n",
    "df"
   ]
  }
 ],
 "metadata": {
  "kernelspec": {
   "display_name": "Python 3",
   "language": "python",
   "name": "python3"
  },
  "language_info": {
   "codemirror_mode": {
    "name": "ipython",
    "version": 3
   },
   "file_extension": ".py",
   "mimetype": "text/x-python",
   "name": "python",
   "nbconvert_exporter": "python",
   "pygments_lexer": "ipython3",
   "version": "3.6.0"
  }
 },
 "nbformat": 4,
 "nbformat_minor": 2
}
