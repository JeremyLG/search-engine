{
 "cells": [
  {
   "cell_type": "code",
   "execution_count": null,
   "metadata": {},
   "outputs": [],
   "source": [
    "import pandas as pd\n",
    "import urllib.request\n",
    "import json\n",
    "import requests\n",
    "import time\n",
    "from elasticsearch import Elasticsearch\n",
    "es = Elasticsearch()\n",
    "df = pd.read_csv(\"C:\\\\Users\\\\JLEGALL\\\\Downloads\\\\imdb-movies-dataset\\\\imdb.csv\",error_bad_lines=False)"
   ]
  },
  {
   "cell_type": "code",
   "execution_count": null,
   "metadata": {},
   "outputs": [],
   "source": [
    "import tmdbsimple as tmdb\n",
    "tmdb.API_KEY = 'a0981d61a7758f0627698d4b55c51a4a'\n",
    "df = pd.DataFrame(columns=[\"first_name\",\"last_name\",\"poster\"])"
   ]
  },
  {
   "cell_type": "code",
   "execution_count": null,
   "metadata": {},
   "outputs": [],
   "source": [
    "t = time.time()"
   ]
  },
  {
   "cell_type": "code",
   "execution_count": null,
   "metadata": {},
   "outputs": [],
   "source": [
    "time.time() - t"
   ]
  },
  {
   "cell_type": "code",
   "execution_count": null,
   "metadata": {},
   "outputs": [],
   "source": [
    "r = urllib.request.urlopen(\"https://api.themoviedb.org/3/person/popular?api_key=a0981d61a7758f0627698d4b55c51a4a&language=en-US&page=1\")\n",
    "t = r.read()\n",
    "j = json.loads(t.decode())\n",
    "df = pd.DataFrame(j['results'])\n",
    "df['profile_path'] = \"https://image.tmdb.org/t/p/original\" + df['profile_path']\n",
    "for i in range(2,952):\n",
    "    r = urllib.request.urlopen(\"https://api.themoviedb.org/3/person/popular?api_key=a0981d61a7758f0627698d4b55c51a4a&language=en-US&page=\" + str(i))\n",
    "    t = r.read()\n",
    "    j = json.loads(t.decode())\n",
    "    df1 = pd.DataFrame(j['results'])\n",
    "    df1['profile_path'] = \"https://image.tmdb.org/t/p/original\" + df1['profile_path']\n",
    "    df = df.append(df1)"
   ]
  },
  {
   "cell_type": "code",
   "execution_count": null,
   "metadata": {},
   "outputs": [],
   "source": [
    "df.reset_index(inplace=True,drop=True)"
   ]
  },
  {
   "cell_type": "code",
   "execution_count": null,
   "metadata": {},
   "outputs": [],
   "source": [
    "df.to_csv(\"actors.csv\",index=False)"
   ]
  },
  {
   "cell_type": "code",
   "execution_count": null,
   "metadata": {},
   "outputs": [],
   "source": [
    "r = urllib.request.urlopen(\"https://api.themoviedb.org/3/movie/popular?api_key=a0981d61a7758f0627698d4b55c51a4a&language=en-US&page=1\")\n",
    "t = r.read()\n",
    "j = json.loads(t.decode())\n",
    "df_actor = pd.DataFrame(j['results'])\n",
    "df_actor['poster_path'] = \"https://image.tmdb.org/t/p/original\" + df_actor['poster_path']\n",
    "for i in range(2,977):\n",
    "    r = urllib.request.urlopen(\"https://api.themoviedb.org/3/movie/popular?api_key=a0981d61a7758f0627698d4b55c51a4a&language=en-US&page=\" + str(i))\n",
    "    t = r.read()\n",
    "    j = json.loads(t.decode())\n",
    "    df1 = pd.DataFrame(j['results'])\n",
    "    df1['poster_path'] = \"https://image.tmdb.org/t/p/original\" + df1['poster_path']\n",
    "    df_actor = df_actor.append(df1)"
   ]
  },
  {
   "cell_type": "code",
   "execution_count": null,
   "metadata": {},
   "outputs": [],
   "source": [
    "df_actor.reset_index(inplace=True,drop=True)"
   ]
  },
  {
   "cell_type": "code",
   "execution_count": null,
   "metadata": {},
   "outputs": [],
   "source": [
    "df_actor.to_csv(\"movies.csv\",index=False)"
   ]
  },
  {
   "cell_type": "code",
   "execution_count": null,
   "metadata": {},
   "outputs": [],
   "source": [
    "def insertDataframeIntoElastic(dataFrame,index='index', typ = 'test', server = 'http://192.168.11.148:9200',\n",
    "                           chunk_size = 2000):\n",
    "    headers = {'content-type': 'application/x-ndjson', 'Accept-Charset': 'UTF-8'}\n",
    "    records = dataFrame.to_dict(orient='records')\n",
    "    actions = [\"\"\"{ \"index\" : { \"_index\" : \"%s\", \"_type\" : \"%s\"} }\\n\"\"\" % (index, typ) +json.dumps(records[j])\n",
    "                    for j in range(len(records))]\n",
    "    i=0\n",
    "    while i<len(actions):\n",
    "        serverAPI = server + '/_bulk' \n",
    "        data='\\n'.join(actions[i:min([i+chunk_size,len(actions)])])\n",
    "        data = data + '\\n'\n",
    "        r = requests.post(serverAPI, data = data, headers=headers)\n",
    "        print(r.content)\n",
    "        i = i+chunk_size"
   ]
  },
  {
   "cell_type": "code",
   "execution_count": null,
   "metadata": {},
   "outputs": [],
   "source": [
    "df_fin = df_actor[[\"id\",\"title\",\"popularity\",\"poster_path\"]]\n",
    "df_fin.to_csv(\"movies.csv\",index=False)"
   ]
  },
  {
   "cell_type": "code",
   "execution_count": null,
   "metadata": {},
   "outputs": [],
   "source": [
    "df_actor"
   ]
  },
  {
   "cell_type": "code",
   "execution_count": null,
   "metadata": {},
   "outputs": [],
   "source": []
  }
 ],
 "metadata": {
  "kernelspec": {
   "display_name": "Python 3",
   "language": "python",
   "name": "python3"
  },
  "language_info": {
   "codemirror_mode": {
    "name": "ipython",
    "version": 3
   },
   "file_extension": ".py",
   "mimetype": "text/x-python",
   "name": "python",
   "nbconvert_exporter": "python",
   "pygments_lexer": "ipython3",
   "version": "3.6.0"
  }
 },
 "nbformat": 4,
 "nbformat_minor": 2
}
